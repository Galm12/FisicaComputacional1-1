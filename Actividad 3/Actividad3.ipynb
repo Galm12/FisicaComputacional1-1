{
  "nbformat": 4,
  "nbformat_minor": 0,
  "metadata": {
    "colab": {
      "name": "Actividad3.ipynb",
      "provenance": []
    },
    "kernelspec": {
      "name": "python3",
      "display_name": "Python 3"
    }
  },
  "cells": [
    {
      "cell_type": "code",
      "metadata": {
        "colab": {
          "base_uri": "https://localhost:8080/"
        },
        "id": "CpV-fKDtQ9IK",
        "outputId": "c763da0f-1715-4105-ff32-9de733da79e3"
      },
      "source": [
        "#Importamos las bibliotecas a utilizar\r\n",
        "import pandas as pd \r\n",
        "import numpy as np\r\n",
        "\r\n",
        "url = 'https://raw.githubusercontent.com/MarioGHdz/FisicaComputacional1/master/Actividad%201/Datos%20diarios.txt'\r\n",
        "# Definimos los nombres de las columnas\r\n",
        "# El archivo tiene códigos ASCII extendido (Español), encoding='cp1251' Windows (Europa Occidental)\r\n",
        "# El separador de datos es de uno o más espacios, sep='\\s+'\r\n",
        "# Se brincará los primeros 19 renglones y el último, afirmamos que no nay encabezado\r\n",
        "# Se procesan los datos utilizando Python, engine='python' \r\n",
        "my_cols = ['Fecha', 'Precip', 'Evap', 'Tmax', 'Tmin']\r\n",
        "df_dist = pd.read_csv(url, names=my_cols, encoding='cp1251', sep='\\s+', header=None, skiprows=19, skipfooter=1, engine='python')\r\n",
        "\r\n",
        "# Revisamos el encabezado y el final del dataframe\r\n",
        "print(df_dist.head(10))\r\n",
        "print(df_dist.tail(10))\r\n",
        "\r\n",
        "\r\n"
      ],
      "execution_count": 7,
      "outputs": [
        {
          "output_type": "stream",
          "text": [
            "        Fecha Precip Evap  Tmax  Tmin\n",
            "0  01/05/1969      0    9  30.5   8.5\n",
            "1  02/05/1969      0  9.1  30.5   8.5\n",
            "2  03/05/1969      0    9    30     9\n",
            "3  04/05/1969      0  7.1  27.5    12\n",
            "4  05/05/1969      5  4.3    28   7.5\n",
            "5  06/05/1969   13.3  5.1  30.5     6\n",
            "6  07/05/1969    2.2  4.2    29     5\n",
            "7  08/05/1969      0  5.9    24   8.5\n",
            "8  09/05/1969      0    9    30  11.5\n",
            "9  10/05/1969      0  7.2  34.5    14\n",
            "            Fecha Precip  Evap Tmax Tmin\n",
            "16489  21/04/2016      0  Nulo   33    9\n",
            "16490  22/04/2016      0  Nulo   33   10\n",
            "16491  23/04/2016      0  Nulo   30   12\n",
            "16492  24/04/2016      0  Nulo   30   10\n",
            "16493  25/04/2016      0  Nulo   27   12\n",
            "16494  26/04/2016      0  Nulo   29    8\n",
            "16495  27/04/2016      0  Nulo   28    7\n",
            "16496  28/04/2016      0  Nulo   27    7\n",
            "16497  29/04/2016      0  Nulo   25    5\n",
            "16498  30/04/2016      0  Nulo   26    7\n"
          ],
          "name": "stdout"
        }
      ]
    },
    {
      "cell_type": "markdown",
      "metadata": {
        "id": "dV-idYxDRynB"
      },
      "source": [
        ""
      ]
    },
    {
      "cell_type": "code",
      "metadata": {
        "colab": {
          "base_uri": "https://localhost:8080/"
        },
        "id": "6-f9trSdlZLE",
        "outputId": "329dc73b-8505-41da-8c9e-ec5c37f35538"
      },
      "source": [
        "\r\n",
        "# Investigamos su tamaño con la función shape (renglones, columnas)\r\n",
        "df_dist.shape"
      ],
      "execution_count": 4,
      "outputs": [
        {
          "output_type": "execute_result",
          "data": {
            "text/plain": [
              "(16499, 5)"
            ]
          },
          "metadata": {
            "tags": []
          },
          "execution_count": 4
        }
      ]
    },
    {
      "cell_type": "code",
      "metadata": {
        "colab": {
          "base_uri": "https://localhost:8080/"
        },
        "id": "8uhBE3RClpIV",
        "outputId": "76484b87-a185-4c1a-d609-56cb4a8a1628"
      },
      "source": [
        "# Información del dataframe\r\n",
        "df_dist.info()\r\n"
      ],
      "execution_count": 10,
      "outputs": [
        {
          "output_type": "stream",
          "text": [
            "<class 'pandas.core.frame.DataFrame'>\n",
            "RangeIndex: 16499 entries, 0 to 16498\n",
            "Data columns (total 5 columns):\n",
            " #   Column  Non-Null Count  Dtype \n",
            "---  ------  --------------  ----- \n",
            " 0   Fecha   16499 non-null  object\n",
            " 1   Precip  16499 non-null  object\n",
            " 2   Evap    16499 non-null  object\n",
            " 3   Tmax    16499 non-null  object\n",
            " 4   Tmin    16499 non-null  object\n",
            "dtypes: object(5)\n",
            "memory usage: 644.6+ KB\n"
          ],
          "name": "stdout"
        }
      ]
    },
    {
      "cell_type": "code",
      "metadata": {
        "colab": {
          "base_uri": "https://localhost:8080/",
          "height": 204
        },
        "id": "CZjOCHIimdvg",
        "outputId": "17e99f67-6b69-498b-8e35-8d6082d19b74"
      },
      "source": [
        "\r\n",
        "# Hacemos una copia de trabajo y preservamos el dataframe original\r\n",
        "df_work0 = df_dist.copy()\r\n",
        "df_work0.head()"
      ],
      "execution_count": 8,
      "outputs": [
        {
          "output_type": "execute_result",
          "data": {
            "text/html": [
              "<div>\n",
              "<style scoped>\n",
              "    .dataframe tbody tr th:only-of-type {\n",
              "        vertical-align: middle;\n",
              "    }\n",
              "\n",
              "    .dataframe tbody tr th {\n",
              "        vertical-align: top;\n",
              "    }\n",
              "\n",
              "    .dataframe thead th {\n",
              "        text-align: right;\n",
              "    }\n",
              "</style>\n",
              "<table border=\"1\" class=\"dataframe\">\n",
              "  <thead>\n",
              "    <tr style=\"text-align: right;\">\n",
              "      <th></th>\n",
              "      <th>Fecha</th>\n",
              "      <th>Precip</th>\n",
              "      <th>Evap</th>\n",
              "      <th>Tmax</th>\n",
              "      <th>Tmin</th>\n",
              "    </tr>\n",
              "  </thead>\n",
              "  <tbody>\n",
              "    <tr>\n",
              "      <th>0</th>\n",
              "      <td>01/05/1969</td>\n",
              "      <td>0</td>\n",
              "      <td>9</td>\n",
              "      <td>30.5</td>\n",
              "      <td>8.5</td>\n",
              "    </tr>\n",
              "    <tr>\n",
              "      <th>1</th>\n",
              "      <td>02/05/1969</td>\n",
              "      <td>0</td>\n",
              "      <td>9.1</td>\n",
              "      <td>30.5</td>\n",
              "      <td>8.5</td>\n",
              "    </tr>\n",
              "    <tr>\n",
              "      <th>2</th>\n",
              "      <td>03/05/1969</td>\n",
              "      <td>0</td>\n",
              "      <td>9</td>\n",
              "      <td>30</td>\n",
              "      <td>9</td>\n",
              "    </tr>\n",
              "    <tr>\n",
              "      <th>3</th>\n",
              "      <td>04/05/1969</td>\n",
              "      <td>0</td>\n",
              "      <td>7.1</td>\n",
              "      <td>27.5</td>\n",
              "      <td>12</td>\n",
              "    </tr>\n",
              "    <tr>\n",
              "      <th>4</th>\n",
              "      <td>05/05/1969</td>\n",
              "      <td>5</td>\n",
              "      <td>4.3</td>\n",
              "      <td>28</td>\n",
              "      <td>7.5</td>\n",
              "    </tr>\n",
              "  </tbody>\n",
              "</table>\n",
              "</div>"
            ],
            "text/plain": [
              "        Fecha Precip Evap  Tmax Tmin\n",
              "0  01/05/1969      0    9  30.5  8.5\n",
              "1  02/05/1969      0  9.1  30.5  8.5\n",
              "2  03/05/1969      0    9    30    9\n",
              "3  04/05/1969      0  7.1  27.5   12\n",
              "4  05/05/1969      5  4.3    28  7.5"
            ]
          },
          "metadata": {
            "tags": []
          },
          "execution_count": 8
        }
      ]
    },
    {
      "cell_type": "code",
      "metadata": {
        "colab": {
          "base_uri": "https://localhost:8080/",
          "height": 204
        },
        "id": "fUpo5LU8wjnm",
        "outputId": "b3d6069e-dec0-454e-b6f7-e279b34e5063"
      },
      "source": [
        "df_work0 = df_dist.copy()\r\n",
        "df_work0.tail()"
      ],
      "execution_count": 11,
      "outputs": [
        {
          "output_type": "execute_result",
          "data": {
            "text/html": [
              "<div>\n",
              "<style scoped>\n",
              "    .dataframe tbody tr th:only-of-type {\n",
              "        vertical-align: middle;\n",
              "    }\n",
              "\n",
              "    .dataframe tbody tr th {\n",
              "        vertical-align: top;\n",
              "    }\n",
              "\n",
              "    .dataframe thead th {\n",
              "        text-align: right;\n",
              "    }\n",
              "</style>\n",
              "<table border=\"1\" class=\"dataframe\">\n",
              "  <thead>\n",
              "    <tr style=\"text-align: right;\">\n",
              "      <th></th>\n",
              "      <th>Fecha</th>\n",
              "      <th>Precip</th>\n",
              "      <th>Evap</th>\n",
              "      <th>Tmax</th>\n",
              "      <th>Tmin</th>\n",
              "    </tr>\n",
              "  </thead>\n",
              "  <tbody>\n",
              "    <tr>\n",
              "      <th>16494</th>\n",
              "      <td>26/04/2016</td>\n",
              "      <td>0</td>\n",
              "      <td>Nulo</td>\n",
              "      <td>29</td>\n",
              "      <td>8</td>\n",
              "    </tr>\n",
              "    <tr>\n",
              "      <th>16495</th>\n",
              "      <td>27/04/2016</td>\n",
              "      <td>0</td>\n",
              "      <td>Nulo</td>\n",
              "      <td>28</td>\n",
              "      <td>7</td>\n",
              "    </tr>\n",
              "    <tr>\n",
              "      <th>16496</th>\n",
              "      <td>28/04/2016</td>\n",
              "      <td>0</td>\n",
              "      <td>Nulo</td>\n",
              "      <td>27</td>\n",
              "      <td>7</td>\n",
              "    </tr>\n",
              "    <tr>\n",
              "      <th>16497</th>\n",
              "      <td>29/04/2016</td>\n",
              "      <td>0</td>\n",
              "      <td>Nulo</td>\n",
              "      <td>25</td>\n",
              "      <td>5</td>\n",
              "    </tr>\n",
              "    <tr>\n",
              "      <th>16498</th>\n",
              "      <td>30/04/2016</td>\n",
              "      <td>0</td>\n",
              "      <td>Nulo</td>\n",
              "      <td>26</td>\n",
              "      <td>7</td>\n",
              "    </tr>\n",
              "  </tbody>\n",
              "</table>\n",
              "</div>"
            ],
            "text/plain": [
              "            Fecha Precip  Evap Tmax Tmin\n",
              "16494  26/04/2016      0  Nulo   29    8\n",
              "16495  27/04/2016      0  Nulo   28    7\n",
              "16496  28/04/2016      0  Nulo   27    7\n",
              "16497  29/04/2016      0  Nulo   25    5\n",
              "16498  30/04/2016      0  Nulo   26    7"
            ]
          },
          "metadata": {
            "tags": []
          },
          "execution_count": 11
        }
      ]
    },
    {
      "cell_type": "code",
      "metadata": {
        "colab": {
          "base_uri": "https://localhost:8080/",
          "height": 204
        },
        "id": "bV9Nrd4pv75e",
        "outputId": "eed6ce22-567b-4cd4-b372-615be9029c9c"
      },
      "source": [
        "# Reemplazamos los textos 'Nulo' por espacio en blanco ''\r\n",
        "str_Nulo = 'Nulo'\r\n",
        "df_work1 = df_work0.replace(to_replace=str_Nulo, value='', regex=True)\r\n",
        "df_work1.head()"
      ],
      "execution_count": 9,
      "outputs": [
        {
          "output_type": "execute_result",
          "data": {
            "text/html": [
              "<div>\n",
              "<style scoped>\n",
              "    .dataframe tbody tr th:only-of-type {\n",
              "        vertical-align: middle;\n",
              "    }\n",
              "\n",
              "    .dataframe tbody tr th {\n",
              "        vertical-align: top;\n",
              "    }\n",
              "\n",
              "    .dataframe thead th {\n",
              "        text-align: right;\n",
              "    }\n",
              "</style>\n",
              "<table border=\"1\" class=\"dataframe\">\n",
              "  <thead>\n",
              "    <tr style=\"text-align: right;\">\n",
              "      <th></th>\n",
              "      <th>Fecha</th>\n",
              "      <th>Precip</th>\n",
              "      <th>Evap</th>\n",
              "      <th>Tmax</th>\n",
              "      <th>Tmin</th>\n",
              "    </tr>\n",
              "  </thead>\n",
              "  <tbody>\n",
              "    <tr>\n",
              "      <th>0</th>\n",
              "      <td>01/05/1969</td>\n",
              "      <td>0</td>\n",
              "      <td>9</td>\n",
              "      <td>30.5</td>\n",
              "      <td>8.5</td>\n",
              "    </tr>\n",
              "    <tr>\n",
              "      <th>1</th>\n",
              "      <td>02/05/1969</td>\n",
              "      <td>0</td>\n",
              "      <td>9.1</td>\n",
              "      <td>30.5</td>\n",
              "      <td>8.5</td>\n",
              "    </tr>\n",
              "    <tr>\n",
              "      <th>2</th>\n",
              "      <td>03/05/1969</td>\n",
              "      <td>0</td>\n",
              "      <td>9</td>\n",
              "      <td>30</td>\n",
              "      <td>9</td>\n",
              "    </tr>\n",
              "    <tr>\n",
              "      <th>3</th>\n",
              "      <td>04/05/1969</td>\n",
              "      <td>0</td>\n",
              "      <td>7.1</td>\n",
              "      <td>27.5</td>\n",
              "      <td>12</td>\n",
              "    </tr>\n",
              "    <tr>\n",
              "      <th>4</th>\n",
              "      <td>05/05/1969</td>\n",
              "      <td>5</td>\n",
              "      <td>4.3</td>\n",
              "      <td>28</td>\n",
              "      <td>7.5</td>\n",
              "    </tr>\n",
              "  </tbody>\n",
              "</table>\n",
              "</div>"
            ],
            "text/plain": [
              "        Fecha Precip Evap  Tmax Tmin\n",
              "0  01/05/1969      0    9  30.5  8.5\n",
              "1  02/05/1969      0  9.1  30.5  8.5\n",
              "2  03/05/1969      0    9    30    9\n",
              "3  04/05/1969      0  7.1  27.5   12\n",
              "4  05/05/1969      5  4.3    28  7.5"
            ]
          },
          "metadata": {
            "tags": []
          },
          "execution_count": 9
        }
      ]
    },
    {
      "cell_type": "code",
      "metadata": {
        "colab": {
          "base_uri": "https://localhost:8080/",
          "height": 204
        },
        "id": "il5bFEIXwp5J",
        "outputId": "217c660d-b809-4f32-def9-b28a4013cd9d"
      },
      "source": [
        "str_Nulo = 'Nulo'\r\n",
        "df_work1 = df_work0.replace(to_replace=str_Nulo, value='', regex=True)\r\n",
        "df_work1.tail()"
      ],
      "execution_count": 16,
      "outputs": [
        {
          "output_type": "execute_result",
          "data": {
            "text/html": [
              "<div>\n",
              "<style scoped>\n",
              "    .dataframe tbody tr th:only-of-type {\n",
              "        vertical-align: middle;\n",
              "    }\n",
              "\n",
              "    .dataframe tbody tr th {\n",
              "        vertical-align: top;\n",
              "    }\n",
              "\n",
              "    .dataframe thead th {\n",
              "        text-align: right;\n",
              "    }\n",
              "</style>\n",
              "<table border=\"1\" class=\"dataframe\">\n",
              "  <thead>\n",
              "    <tr style=\"text-align: right;\">\n",
              "      <th></th>\n",
              "      <th>Fecha</th>\n",
              "      <th>Precip</th>\n",
              "      <th>Evap</th>\n",
              "      <th>Tmax</th>\n",
              "      <th>Tmin</th>\n",
              "    </tr>\n",
              "  </thead>\n",
              "  <tbody>\n",
              "    <tr>\n",
              "      <th>16494</th>\n",
              "      <td>26/04/2016</td>\n",
              "      <td>0</td>\n",
              "      <td></td>\n",
              "      <td>29</td>\n",
              "      <td>8</td>\n",
              "    </tr>\n",
              "    <tr>\n",
              "      <th>16495</th>\n",
              "      <td>27/04/2016</td>\n",
              "      <td>0</td>\n",
              "      <td></td>\n",
              "      <td>28</td>\n",
              "      <td>7</td>\n",
              "    </tr>\n",
              "    <tr>\n",
              "      <th>16496</th>\n",
              "      <td>28/04/2016</td>\n",
              "      <td>0</td>\n",
              "      <td></td>\n",
              "      <td>27</td>\n",
              "      <td>7</td>\n",
              "    </tr>\n",
              "    <tr>\n",
              "      <th>16497</th>\n",
              "      <td>29/04/2016</td>\n",
              "      <td>0</td>\n",
              "      <td></td>\n",
              "      <td>25</td>\n",
              "      <td>5</td>\n",
              "    </tr>\n",
              "    <tr>\n",
              "      <th>16498</th>\n",
              "      <td>30/04/2016</td>\n",
              "      <td>0</td>\n",
              "      <td></td>\n",
              "      <td>26</td>\n",
              "      <td>7</td>\n",
              "    </tr>\n",
              "  </tbody>\n",
              "</table>\n",
              "</div>"
            ],
            "text/plain": [
              "            Fecha Precip Evap Tmax Tmin\n",
              "16494  26/04/2016      0        29    8\n",
              "16495  27/04/2016      0        28    7\n",
              "16496  28/04/2016      0        27    7\n",
              "16497  29/04/2016      0        25    5\n",
              "16498  30/04/2016      0        26    7"
            ]
          },
          "metadata": {
            "tags": []
          },
          "execution_count": 16
        }
      ]
    },
    {
      "cell_type": "code",
      "metadata": {
        "colab": {
          "base_uri": "https://localhost:8080/"
        },
        "id": "hNzOSCYrw0in",
        "outputId": "5fec906a-2af2-44cc-a2a0-b44b6491387d"
      },
      "source": [
        "# Imprimimos la información actualizada del dataframe\r\n",
        "df_work1.info()\r\n",
        "print(df_work1.head())\r\n"
      ],
      "execution_count": 13,
      "outputs": [
        {
          "output_type": "stream",
          "text": [
            "<class 'pandas.core.frame.DataFrame'>\n",
            "RangeIndex: 16499 entries, 0 to 16498\n",
            "Data columns (total 5 columns):\n",
            " #   Column  Non-Null Count  Dtype \n",
            "---  ------  --------------  ----- \n",
            " 0   Fecha   16499 non-null  object\n",
            " 1   Precip  16499 non-null  object\n",
            " 2   Evap    16499 non-null  object\n",
            " 3   Tmax    16499 non-null  object\n",
            " 4   Tmin    16499 non-null  object\n",
            "dtypes: object(5)\n",
            "memory usage: 644.6+ KB\n",
            "        Fecha Precip Evap  Tmax Tmin\n",
            "0  01/05/1969      0    9  30.5  8.5\n",
            "1  02/05/1969      0  9.1  30.5  8.5\n",
            "2  03/05/1969      0    9    30    9\n",
            "3  04/05/1969      0  7.1  27.5   12\n",
            "4  05/05/1969      5  4.3    28  7.5\n"
          ],
          "name": "stdout"
        }
      ]
    },
    {
      "cell_type": "code",
      "metadata": {
        "colab": {
          "base_uri": "https://localhost:8080/"
        },
        "id": "1EbNmIY7w5xu",
        "outputId": "7697ffc1-ba60-42b2-d3af-7186fe5ba7a8"
      },
      "source": [
        "df_work1.info()\r\n",
        "print(df_work1.tail())"
      ],
      "execution_count": 15,
      "outputs": [
        {
          "output_type": "stream",
          "text": [
            "<class 'pandas.core.frame.DataFrame'>\n",
            "RangeIndex: 16499 entries, 0 to 16498\n",
            "Data columns (total 5 columns):\n",
            " #   Column  Non-Null Count  Dtype \n",
            "---  ------  --------------  ----- \n",
            " 0   Fecha   16499 non-null  object\n",
            " 1   Precip  16499 non-null  object\n",
            " 2   Evap    16499 non-null  object\n",
            " 3   Tmax    16499 non-null  object\n",
            " 4   Tmin    16499 non-null  object\n",
            "dtypes: object(5)\n",
            "memory usage: 644.6+ KB\n",
            "            Fecha Precip Evap Tmax Tmin\n",
            "16494  26/04/2016      0        29    8\n",
            "16495  27/04/2016      0        28    7\n",
            "16496  28/04/2016      0        27    7\n",
            "16497  29/04/2016      0        25    5\n",
            "16498  30/04/2016      0        26    7\n"
          ],
          "name": "stdout"
        }
      ]
    },
    {
      "cell_type": "code",
      "metadata": {
        "colab": {
          "base_uri": "https://localhost:8080/"
        },
        "id": "KZQxkuD9xOY6",
        "outputId": "d55e37ee-486f-4667-9f61-dddad9b81531"
      },
      "source": [
        "# Deseamos convertir los valores de las variables ambientales a núm. flotantes \r\n",
        "cols_list = ['Precip', 'Evap', 'Tmax', 'Tmin']\r\n",
        "for cols in cols_list:\r\n",
        "  df_work1[cols] = pd.to_numeric(df_work1[cols], errors='coerce')\r\n",
        "\r\n",
        "df_work1.info()"
      ],
      "execution_count": 17,
      "outputs": [
        {
          "output_type": "stream",
          "text": [
            "<class 'pandas.core.frame.DataFrame'>\n",
            "RangeIndex: 16499 entries, 0 to 16498\n",
            "Data columns (total 5 columns):\n",
            " #   Column  Non-Null Count  Dtype  \n",
            "---  ------  --------------  -----  \n",
            " 0   Fecha   16499 non-null  object \n",
            " 1   Precip  16498 non-null  float64\n",
            " 2   Evap    11586 non-null  float64\n",
            " 3   Tmax    16465 non-null  float64\n",
            " 4   Tmin    16467 non-null  float64\n",
            "dtypes: float64(4), object(1)\n",
            "memory usage: 644.6+ KB\n"
          ],
          "name": "stdout"
        }
      ]
    },
    {
      "cell_type": "code",
      "metadata": {
        "colab": {
          "base_uri": "https://localhost:8080/"
        },
        "id": "nK_NJkEgx2dp",
        "outputId": "0bf68f73-f9da-4a31-edc7-71d07bfa813a"
      },
      "source": [
        "# De la instrucción anterior, vemos que hay valores faltantes. Sumamos los valores nulos. \r\n",
        "df_work1.isnull().sum()"
      ],
      "execution_count": 18,
      "outputs": [
        {
          "output_type": "execute_result",
          "data": {
            "text/plain": [
              "Fecha        0\n",
              "Precip       1\n",
              "Evap      4913\n",
              "Tmax        34\n",
              "Tmin        32\n",
              "dtype: int64"
            ]
          },
          "metadata": {
            "tags": []
          },
          "execution_count": 18
        }
      ]
    },
    {
      "cell_type": "code",
      "metadata": {
        "colab": {
          "base_uri": "https://localhost:8080/"
        },
        "id": "9A8taqfCyV9z",
        "outputId": "93c8a1a2-9dc8-45a7-9202-a863018ac668"
      },
      "source": [
        "print(df_work1.head())\r\n",
        "print(df_work1.head())"
      ],
      "execution_count": 19,
      "outputs": [
        {
          "output_type": "stream",
          "text": [
            "        Fecha  Precip  Evap  Tmax  Tmin\n",
            "0  01/05/1969     0.0   9.0  30.5   8.5\n",
            "1  02/05/1969     0.0   9.1  30.5   8.5\n",
            "2  03/05/1969     0.0   9.0  30.0   9.0\n",
            "3  04/05/1969     0.0   7.1  27.5  12.0\n",
            "4  05/05/1969     5.0   4.3  28.0   7.5\n",
            "        Fecha  Precip  Evap  Tmax  Tmin\n",
            "0  01/05/1969     0.0   9.0  30.5   8.5\n",
            "1  02/05/1969     0.0   9.1  30.5   8.5\n",
            "2  03/05/1969     0.0   9.0  30.0   9.0\n",
            "3  04/05/1969     0.0   7.1  27.5  12.0\n",
            "4  05/05/1969     5.0   4.3  28.0   7.5\n"
          ],
          "name": "stdout"
        }
      ]
    },
    {
      "cell_type": "code",
      "metadata": {
        "colab": {
          "base_uri": "https://localhost:8080/"
        },
        "id": "inLNzybzyE_4",
        "outputId": "0fbe01e3-cbc7-4597-d723-90e70ba3095e"
      },
      "source": [
        "print(df_work1.tail())\r\n",
        "print(df_work1.tail())"
      ],
      "execution_count": 20,
      "outputs": [
        {
          "output_type": "stream",
          "text": [
            "            Fecha  Precip  Evap  Tmax  Tmin\n",
            "16494  26/04/2016     0.0   NaN  29.0   8.0\n",
            "16495  27/04/2016     0.0   NaN  28.0   7.0\n",
            "16496  28/04/2016     0.0   NaN  27.0   7.0\n",
            "16497  29/04/2016     0.0   NaN  25.0   5.0\n",
            "16498  30/04/2016     0.0   NaN  26.0   7.0\n",
            "            Fecha  Precip  Evap  Tmax  Tmin\n",
            "16494  26/04/2016     0.0   NaN  29.0   8.0\n",
            "16495  27/04/2016     0.0   NaN  28.0   7.0\n",
            "16496  28/04/2016     0.0   NaN  27.0   7.0\n",
            "16497  29/04/2016     0.0   NaN  25.0   5.0\n",
            "16498  30/04/2016     0.0   NaN  26.0   7.0\n"
          ],
          "name": "stdout"
        }
      ]
    },
    {
      "cell_type": "code",
      "metadata": {
        "colab": {
          "base_uri": "https://localhost:8080/",
          "height": 297
        },
        "id": "jzHuf8KDyuKy",
        "outputId": "ba3bd27d-84da-4d54-d069-6b7cd962f44e"
      },
      "source": [
        "# Un análisis estadístico breve de las variables numéricas redondeado a 2 cifras significativas\r\n",
        "df_work1.describe().round(2)"
      ],
      "execution_count": 21,
      "outputs": [
        {
          "output_type": "execute_result",
          "data": {
            "text/html": [
              "<div>\n",
              "<style scoped>\n",
              "    .dataframe tbody tr th:only-of-type {\n",
              "        vertical-align: middle;\n",
              "    }\n",
              "\n",
              "    .dataframe tbody tr th {\n",
              "        vertical-align: top;\n",
              "    }\n",
              "\n",
              "    .dataframe thead th {\n",
              "        text-align: right;\n",
              "    }\n",
              "</style>\n",
              "<table border=\"1\" class=\"dataframe\">\n",
              "  <thead>\n",
              "    <tr style=\"text-align: right;\">\n",
              "      <th></th>\n",
              "      <th>Precip</th>\n",
              "      <th>Evap</th>\n",
              "      <th>Tmax</th>\n",
              "      <th>Tmin</th>\n",
              "    </tr>\n",
              "  </thead>\n",
              "  <tbody>\n",
              "    <tr>\n",
              "      <th>count</th>\n",
              "      <td>16498.00</td>\n",
              "      <td>11586.00</td>\n",
              "      <td>16465.00</td>\n",
              "      <td>16467.00</td>\n",
              "    </tr>\n",
              "    <tr>\n",
              "      <th>mean</th>\n",
              "      <td>1.23</td>\n",
              "      <td>6.03</td>\n",
              "      <td>28.62</td>\n",
              "      <td>9.88</td>\n",
              "    </tr>\n",
              "    <tr>\n",
              "      <th>std</th>\n",
              "      <td>5.46</td>\n",
              "      <td>3.20</td>\n",
              "      <td>7.25</td>\n",
              "      <td>7.17</td>\n",
              "    </tr>\n",
              "    <tr>\n",
              "      <th>min</th>\n",
              "      <td>0.00</td>\n",
              "      <td>0.10</td>\n",
              "      <td>1.50</td>\n",
              "      <td>-10.50</td>\n",
              "    </tr>\n",
              "    <tr>\n",
              "      <th>25%</th>\n",
              "      <td>0.00</td>\n",
              "      <td>3.50</td>\n",
              "      <td>23.50</td>\n",
              "      <td>4.00</td>\n",
              "    </tr>\n",
              "    <tr>\n",
              "      <th>50%</th>\n",
              "      <td>0.00</td>\n",
              "      <td>5.70</td>\n",
              "      <td>29.50</td>\n",
              "      <td>8.50</td>\n",
              "    </tr>\n",
              "    <tr>\n",
              "      <th>75%</th>\n",
              "      <td>0.00</td>\n",
              "      <td>8.20</td>\n",
              "      <td>34.50</td>\n",
              "      <td>16.50</td>\n",
              "    </tr>\n",
              "    <tr>\n",
              "      <th>max</th>\n",
              "      <td>160.00</td>\n",
              "      <td>17.00</td>\n",
              "      <td>46.00</td>\n",
              "      <td>26.00</td>\n",
              "    </tr>\n",
              "  </tbody>\n",
              "</table>\n",
              "</div>"
            ],
            "text/plain": [
              "         Precip      Evap      Tmax      Tmin\n",
              "count  16498.00  11586.00  16465.00  16467.00\n",
              "mean       1.23      6.03     28.62      9.88\n",
              "std        5.46      3.20      7.25      7.17\n",
              "min        0.00      0.10      1.50    -10.50\n",
              "25%        0.00      3.50     23.50      4.00\n",
              "50%        0.00      5.70     29.50      8.50\n",
              "75%        0.00      8.20     34.50     16.50\n",
              "max      160.00     17.00     46.00     26.00"
            ]
          },
          "metadata": {
            "tags": []
          },
          "execution_count": 21
        }
      ]
    },
    {
      "cell_type": "markdown",
      "metadata": {
        "id": "Ops37kaUy0WY"
      },
      "source": [
        "No se noto nada fuera de lo normal, lo único que se puede destacar que la temperatura mínima alcanzó el máximo de -10.50°."
      ]
    },
    {
      "cell_type": "code",
      "metadata": {
        "colab": {
          "base_uri": "https://localhost:8080/"
        },
        "id": "04JW3CZE1Cah",
        "outputId": "ee799bc0-93fe-4982-bac0-86ad6767d9a1"
      },
      "source": [
        "# Volvemos a hacer una pausa y definimos un nuevo dataframe por si hay que regresarse.\r\n",
        "df_work2 = df_work1.copy()\r\n",
        "df_work2['Fecha'].head()"
      ],
      "execution_count": 23,
      "outputs": [
        {
          "output_type": "execute_result",
          "data": {
            "text/plain": [
              "0    01/05/1969\n",
              "1    02/05/1969\n",
              "2    03/05/1969\n",
              "3    04/05/1969\n",
              "4    05/05/1969\n",
              "Name: Fecha, dtype: object"
            ]
          },
          "metadata": {
            "tags": []
          },
          "execution_count": 23
        }
      ]
    },
    {
      "cell_type": "code",
      "metadata": {
        "colab": {
          "base_uri": "https://localhost:8080/"
        },
        "id": "2sCP7TmD1SYo",
        "outputId": "8b364437-acbe-4ee9-e621-d9016ee9a421"
      },
      "source": [
        "# Pandas tiene la función pd.to_datetime que convierte una cadena en tipo datetime64[ns]\r\n",
        "# Intentamos a ver si Python reconoce el formato en nuestro caso. \r\n",
        "# Agregamos la opción de que el primer dato es el día (dayfirst=True)\r\n",
        "df_work2['Fecha']=pd.to_datetime(df_work2['Fecha'], dayfirst=True).copy()\r\n",
        "print(df_work1.head())"
      ],
      "execution_count": 24,
      "outputs": [
        {
          "output_type": "stream",
          "text": [
            "        Fecha  Precip  Evap  Tmax  Tmin\n",
            "0  01/05/1969     0.0   9.0  30.5   8.5\n",
            "1  02/05/1969     0.0   9.1  30.5   8.5\n",
            "2  03/05/1969     0.0   9.0  30.0   9.0\n",
            "3  04/05/1969     0.0   7.1  27.5  12.0\n",
            "4  05/05/1969     5.0   4.3  28.0   7.5\n"
          ],
          "name": "stdout"
        }
      ]
    },
    {
      "cell_type": "code",
      "metadata": {
        "colab": {
          "base_uri": "https://localhost:8080/"
        },
        "id": "I93hRMak5arY",
        "outputId": "7d783f2e-8f99-4a23-d0ea-a45b452d3e68"
      },
      "source": [
        "# Verificamos que cada variable (columna), sea del tipo que esperamos.\r\n",
        "# Observamos que la variable Fecha es de tipo 'datetime64[ns]'  \r\n",
        "df_work2.dtypes"
      ],
      "execution_count": 25,
      "outputs": [
        {
          "output_type": "execute_result",
          "data": {
            "text/plain": [
              "Fecha     datetime64[ns]\n",
              "Precip           float64\n",
              "Evap             float64\n",
              "Tmax             float64\n",
              "Tmin             float64\n",
              "dtype: object"
            ]
          },
          "metadata": {
            "tags": []
          },
          "execution_count": 25
        }
      ]
    },
    {
      "cell_type": "code",
      "metadata": {
        "id": "XYYA2rL55f1_"
      },
      "source": [
        "# Buscamos ahora añadir dos columnas adicionales: df['Año'], df['Mes']\r\n",
        "# Usaremos la función .dt.year y .dt.month para extraer el Año y Mes de la Fecha\r\n",
        "df_work2['Año'] = df_work2['Fecha'].dt.year\r\n",
        "df_work2['Mes'] = df_work2['Fecha'].dt.month"
      ],
      "execution_count": 26,
      "outputs": []
    },
    {
      "cell_type": "code",
      "metadata": {
        "colab": {
          "base_uri": "https://localhost:8080/"
        },
        "id": "JF2SIRjm8Oc6",
        "outputId": "3be03718-c35e-4c31-a7d3-0397763003c3"
      },
      "source": [
        "# Verificamos que se hayan creado de forma correcta\r\n",
        "# Tendremos ahora dos columnas adicionales que podemos utilizar para filtrar información.\r\n",
        "print(df_work2.head())\r\n",
        "print(df_work2.tail())"
      ],
      "execution_count": 27,
      "outputs": [
        {
          "output_type": "stream",
          "text": [
            "       Fecha  Precip  Evap  Tmax  Tmin   Año  Mes\n",
            "0 1969-05-01     0.0   9.0  30.5   8.5  1969    5\n",
            "1 1969-05-02     0.0   9.1  30.5   8.5  1969    5\n",
            "2 1969-05-03     0.0   9.0  30.0   9.0  1969    5\n",
            "3 1969-05-04     0.0   7.1  27.5  12.0  1969    5\n",
            "4 1969-05-05     5.0   4.3  28.0   7.5  1969    5\n",
            "           Fecha  Precip  Evap  Tmax  Tmin   Año  Mes\n",
            "16494 2016-04-26     0.0   NaN  29.0   8.0  2016    4\n",
            "16495 2016-04-27     0.0   NaN  28.0   7.0  2016    4\n",
            "16496 2016-04-28     0.0   NaN  27.0   7.0  2016    4\n",
            "16497 2016-04-29     0.0   NaN  25.0   5.0  2016    4\n",
            "16498 2016-04-30     0.0   NaN  26.0   7.0  2016    4\n"
          ],
          "name": "stdout"
        }
      ]
    },
    {
      "cell_type": "code",
      "metadata": {
        "colab": {
          "base_uri": "https://localhost:8080/"
        },
        "id": "avhQGKRe8Rsn",
        "outputId": "ce29bd35-b356-483c-e4a1-5e56ae6a607e"
      },
      "source": [
        "# Verificamos que Año y Mes son variables enteras.\r\n",
        "\r\n",
        "df_work2.info()"
      ],
      "execution_count": 28,
      "outputs": [
        {
          "output_type": "stream",
          "text": [
            "<class 'pandas.core.frame.DataFrame'>\n",
            "RangeIndex: 16499 entries, 0 to 16498\n",
            "Data columns (total 7 columns):\n",
            " #   Column  Non-Null Count  Dtype         \n",
            "---  ------  --------------  -----         \n",
            " 0   Fecha   16499 non-null  datetime64[ns]\n",
            " 1   Precip  16498 non-null  float64       \n",
            " 2   Evap    11586 non-null  float64       \n",
            " 3   Tmax    16465 non-null  float64       \n",
            " 4   Tmin    16467 non-null  float64       \n",
            " 5   Año     16499 non-null  int64         \n",
            " 6   Mes     16499 non-null  int64         \n",
            "dtypes: datetime64[ns](1), float64(4), int64(2)\n",
            "memory usage: 902.4 KB\n"
          ],
          "name": "stdout"
        }
      ]
    }
  ]
}